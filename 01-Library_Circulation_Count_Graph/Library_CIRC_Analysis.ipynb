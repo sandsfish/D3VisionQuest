{
 "metadata": {
  "name": ""
 },
 "nbformat": 3,
 "nbformat_minor": 0,
 "worksheets": [
  {
   "cells": [
    {
     "cell_type": "code",
     "collapsed": false,
     "input": [
      "%matplotlib inline\n",
      "import pandas as pd"
     ],
     "language": "python",
     "metadata": {},
     "outputs": [],
     "prompt_number": 1
    },
    {
     "cell_type": "code",
     "collapsed": false,
     "input": [
      "# LIBRARY_CIRCULATION_DETAIL #\n",
      "\n",
      "circ = pd.read_table(\"/Users/sands/GoogleDrive/MIT/Projects/DataWarehouse/warehouse/LIBRARY_CIRCULATION_DETAIL.tab\")\n",
      "circ.head()"
     ],
     "language": "python",
     "metadata": {},
     "outputs": [
      {
       "html": [
        "<div style=\"max-height:1000px;max-width:1500px;overflow:auto;\">\n",
        "<table border=\"1\" class=\"dataframe\">\n",
        "  <thead>\n",
        "    <tr style=\"text-align: right;\">\n",
        "      <th></th>\n",
        "      <th>library_item_key</th>\n",
        "      <th>library_borrower_status_key</th>\n",
        "      <th>library_circulation_desk_key</th>\n",
        "      <th>library_circ_item_status_key</th>\n",
        "      <th>library_circ_event_type_key</th>\n",
        "      <th>library_key</th>\n",
        "      <th>library_material</th>\n",
        "      <th>library_circulation_event_date</th>\n",
        "      <th>library_circulation_event_hour</th>\n",
        "      <th>library_cataloger_name</th>\n",
        "      <th>record_counter</th>\n",
        "      <th>warehouse_load_date</th>\n",
        "    </tr>\n",
        "  </thead>\n",
        "  <tbody>\n",
        "    <tr>\n",
        "      <th>0</th>\n",
        "      <td> 600314000010</td>\n",
        "      <td> 05:N/A</td>\n",
        "      <td>                 N/A:0</td>\n",
        "      <td> 1</td>\n",
        "      <td> BRENW:64:S</td>\n",
        "      <td> SCI</td>\n",
        "      <td> BOOK</td>\n",
        "      <td> 2001-06-10 00:00:00 UTC</td>\n",
        "      <td> 19:03</td>\n",
        "      <td> SELFCHECK</td>\n",
        "      <td> True</td>\n",
        "      <td> 2005-07-20 17:13:44 UTC</td>\n",
        "    </tr>\n",
        "    <tr>\n",
        "      <th>1</th>\n",
        "      <td> 965655000010</td>\n",
        "      <td> 02:N/A</td>\n",
        "      <td> 018.090.002.158:ENG:1</td>\n",
        "      <td> 1</td>\n",
        "      <td>  LOAN:50:P</td>\n",
        "      <td> ENG</td>\n",
        "      <td> BOOK</td>\n",
        "      <td> 2001-06-26 00:00:00 UTC</td>\n",
        "      <td> 14:46</td>\n",
        "      <td> CIR_STAFF</td>\n",
        "      <td> True</td>\n",
        "      <td> 2005-07-20 17:13:44 UTC</td>\n",
        "    </tr>\n",
        "    <tr>\n",
        "      <th>2</th>\n",
        "      <td> 929517000010</td>\n",
        "      <td> 01:N/A</td>\n",
        "      <td> 018.090.002.158:ENG:1</td>\n",
        "      <td> 1</td>\n",
        "      <td>  RETN:61:P</td>\n",
        "      <td> ENG</td>\n",
        "      <td> BOOK</td>\n",
        "      <td> 2001-06-26 00:00:00 UTC</td>\n",
        "      <td> 14:51</td>\n",
        "      <td> CIR_STAFF</td>\n",
        "      <td> True</td>\n",
        "      <td> 2005-07-20 17:13:44 UTC</td>\n",
        "    </tr>\n",
        "    <tr>\n",
        "      <th>3</th>\n",
        "      <td> 929517000010</td>\n",
        "      <td> 02:N/A</td>\n",
        "      <td> 018.090.002.158:ENG:1</td>\n",
        "      <td> 1</td>\n",
        "      <td>  LOAN:50:P</td>\n",
        "      <td> ENG</td>\n",
        "      <td> BOOK</td>\n",
        "      <td> 2001-06-26 00:00:00 UTC</td>\n",
        "      <td> 14:52</td>\n",
        "      <td> CIR_STAFF</td>\n",
        "      <td> True</td>\n",
        "      <td> 2005-07-20 17:13:44 UTC</td>\n",
        "    </tr>\n",
        "    <tr>\n",
        "      <th>4</th>\n",
        "      <td> 929517000010</td>\n",
        "      <td> 02:N/A</td>\n",
        "      <td> 018.090.002.158:ENG:1</td>\n",
        "      <td> 1</td>\n",
        "      <td> RENEW:63:P</td>\n",
        "      <td> ENG</td>\n",
        "      <td> BOOK</td>\n",
        "      <td> 2001-06-26 00:00:00 UTC</td>\n",
        "      <td> 14:53</td>\n",
        "      <td> CIR_STAFF</td>\n",
        "      <td> True</td>\n",
        "      <td> 2005-07-20 17:13:44 UTC</td>\n",
        "    </tr>\n",
        "  </tbody>\n",
        "</table>\n",
        "</div>"
       ],
       "metadata": {},
       "output_type": "pyout",
       "prompt_number": 38,
       "text": [
        "   library_item_key library_borrower_status_key library_circulation_desk_key  \\\n",
        "0      600314000010                      05:N/A                        N/A:0   \n",
        "1      965655000010                      02:N/A        018.090.002.158:ENG:1   \n",
        "2      929517000010                      01:N/A        018.090.002.158:ENG:1   \n",
        "3      929517000010                      02:N/A        018.090.002.158:ENG:1   \n",
        "4      929517000010                      02:N/A        018.090.002.158:ENG:1   \n",
        "\n",
        "   library_circ_item_status_key library_circ_event_type_key library_key  \\\n",
        "0                             1                  BRENW:64:S         SCI   \n",
        "1                             1                   LOAN:50:P         ENG   \n",
        "2                             1                   RETN:61:P         ENG   \n",
        "3                             1                   LOAN:50:P         ENG   \n",
        "4                             1                  RENEW:63:P         ENG   \n",
        "\n",
        "  library_material library_circulation_event_date  \\\n",
        "0             BOOK        2001-06-10 00:00:00 UTC   \n",
        "1             BOOK        2001-06-26 00:00:00 UTC   \n",
        "2             BOOK        2001-06-26 00:00:00 UTC   \n",
        "3             BOOK        2001-06-26 00:00:00 UTC   \n",
        "4             BOOK        2001-06-26 00:00:00 UTC   \n",
        "\n",
        "  library_circulation_event_hour library_cataloger_name record_counter  \\\n",
        "0                          19:03              SELFCHECK           True   \n",
        "1                          14:46              CIR_STAFF           True   \n",
        "2                          14:51              CIR_STAFF           True   \n",
        "3                          14:52              CIR_STAFF           True   \n",
        "4                          14:53              CIR_STAFF           True   \n",
        "\n",
        "       warehouse_load_date  \n",
        "0  2005-07-20 17:13:44 UTC  \n",
        "1  2005-07-20 17:13:44 UTC  \n",
        "2  2005-07-20 17:13:44 UTC  \n",
        "3  2005-07-20 17:13:44 UTC  \n",
        "4  2005-07-20 17:13:44 UTC  "
       ]
      }
     ],
     "prompt_number": 38
    },
    {
     "cell_type": "code",
     "collapsed": false,
     "input": [
      "# columns\n",
      "for c in circ.columns:\n",
      "    print c"
     ],
     "language": "python",
     "metadata": {},
     "outputs": [
      {
       "output_type": "stream",
       "stream": "stdout",
       "text": [
        "library_item_key\n",
        "library_borrower_status_key\n",
        "library_circulation_desk_key\n",
        "library_circ_item_status_key\n",
        "library_circ_event_type_key\n",
        "library_key\n",
        "library_material\n",
        "library_circulation_event_date\n",
        "library_circulation_event_hour\n",
        "library_cataloger_name\n",
        "record_counter\n",
        "warehouse_load_date\n"
       ]
      }
     ],
     "prompt_number": 39
    },
    {
     "cell_type": "code",
     "collapsed": false,
     "input": [
      "# counts of each type of media\n",
      "circ.groupby('library_material')['library_item_key'].count()"
     ],
     "language": "python",
     "metadata": {},
     "outputs": [
      {
       "metadata": {},
       "output_type": "pyout",
       "prompt_number": 40,
       "text": [
        "library_material\n",
        "BOOK                1875\n",
        "ISSUE                125\n",
        "dtype: int64"
       ]
      }
     ],
     "prompt_number": 40
    },
    {
     "cell_type": "code",
     "collapsed": false,
     "input": [
      "# counts per library\n",
      "counts_library = circ.groupby('library_key')['library_item_key'].count()\n",
      "counts_library"
     ],
     "language": "python",
     "metadata": {},
     "outputs": [
      {
       "metadata": {},
       "output_type": "pyout",
       "prompt_number": 42,
       "text": [
        "library_key\n",
        "AER             46\n",
        "DEW            415\n",
        "ENG            244\n",
        "HUM            231\n",
        "LIN             90\n",
        "MUS            376\n",
        "RBR              7\n",
        "RSC             38\n",
        "RTC            231\n",
        "SCI            292\n",
        "SPL             30\n",
        "dtype: int64"
       ]
      }
     ],
     "prompt_number": 42
    },
    {
     "cell_type": "code",
     "collapsed": false,
     "input": [
      "counts_library.hist()"
     ],
     "language": "python",
     "metadata": {},
     "outputs": [
      {
       "metadata": {},
       "output_type": "pyout",
       "prompt_number": 7,
       "text": [
        "<matplotlib.axes.AxesSubplot at 0x10a74d350>"
       ]
      },
      {
       "metadata": {},
       "output_type": "display_data",
       "png": "[encoded data removed]",
       "text": [
        "<matplotlib.figure.Figure at 0x10a7a8dd0>"
       ]
      }
     ],
     "prompt_number": 7
    },
    {
     "cell_type": "code",
     "collapsed": false,
     "input": [
      "# LIBRARY_CIRCULATION_DESK #\n",
      "\n",
      "circ_desk = pd.read_table(\"/Users/sands/GoogleDrive/MIT/Projects/DataWarehouse/warehouse/LIBRARY_CIRCULATION_DESK.tab\")\n",
      "circ_desk.head()"
     ],
     "language": "python",
     "metadata": {},
     "outputs": [
      {
       "html": [
        "<div style=\"max-height:1000px;max-width:1500px;overflow:auto;\">\n",
        "<table border=\"1\" class=\"dataframe\">\n",
        "  <thead>\n",
        "    <tr style=\"text-align: right;\">\n",
        "      <th></th>\n",
        "      <th>library_circulation_desk_key</th>\n",
        "      <th>library_circ_desk_ip_addr</th>\n",
        "      <th>library_circ_desk</th>\n",
        "      <th>library_of_circ</th>\n",
        "      <th>warehouse_load_date</th>\n",
        "    </tr>\n",
        "  </thead>\n",
        "  <tbody>\n",
        "    <tr>\n",
        "      <th>0</th>\n",
        "      <td>       018.007.027.069:ENG:1</td>\n",
        "      <td> 018.007.027.069</td>\n",
        "      <td>       ENG</td>\n",
        "      <td> Barker Library</td>\n",
        "      <td> 2012-03-08 01:20:47 UTC</td>\n",
        "    </tr>\n",
        "    <tr>\n",
        "      <th>1</th>\n",
        "      <td>       018.007.027.070:ENG:1</td>\n",
        "      <td> 018.007.027.070</td>\n",
        "      <td>       ENG</td>\n",
        "      <td> Barker Library</td>\n",
        "      <td> 2012-03-08 01:20:47 UTC</td>\n",
        "    </tr>\n",
        "    <tr>\n",
        "      <th>2</th>\n",
        "      <td>       018.007.027.071:DEW:1</td>\n",
        "      <td> 018.007.027.071</td>\n",
        "      <td>       DEW</td>\n",
        "      <td>  Dewey Library</td>\n",
        "      <td> 2012-03-08 01:20:47 UTC</td>\n",
        "    </tr>\n",
        "    <tr>\n",
        "      <th>3</th>\n",
        "      <td>       018.007.027.117:DEW:1</td>\n",
        "      <td> 018.007.027.117</td>\n",
        "      <td>       DEW</td>\n",
        "      <td>  Dewey Library</td>\n",
        "      <td> 2012-03-08 01:20:47 UTC</td>\n",
        "    </tr>\n",
        "    <tr>\n",
        "      <th>4</th>\n",
        "      <td> 018.007.027.248:RTC   RVC:1</td>\n",
        "      <td> 018.007.027.248</td>\n",
        "      <td> RTC   RVC</td>\n",
        "      <td>            NaN</td>\n",
        "      <td> 2012-03-08 01:20:47 UTC</td>\n",
        "    </tr>\n",
        "  </tbody>\n",
        "</table>\n",
        "</div>"
       ],
       "metadata": {},
       "output_type": "pyout",
       "prompt_number": 9,
       "text": [
        "  library_circulation_desk_key library_circ_desk_ip_addr library_circ_desk  \\\n",
        "0        018.007.027.069:ENG:1           018.007.027.069               ENG   \n",
        "1        018.007.027.070:ENG:1           018.007.027.070               ENG   \n",
        "2        018.007.027.071:DEW:1           018.007.027.071               DEW   \n",
        "3        018.007.027.117:DEW:1           018.007.027.117               DEW   \n",
        "4  018.007.027.248:RTC   RVC:1           018.007.027.248         RTC   RVC   \n",
        "\n",
        "  library_of_circ      warehouse_load_date  \n",
        "0  Barker Library  2012-03-08 01:20:47 UTC  \n",
        "1  Barker Library  2012-03-08 01:20:47 UTC  \n",
        "2   Dewey Library  2012-03-08 01:20:47 UTC  \n",
        "3   Dewey Library  2012-03-08 01:20:47 UTC  \n",
        "4             NaN  2012-03-08 01:20:47 UTC  "
       ]
      }
     ],
     "prompt_number": 9
    },
    {
     "cell_type": "code",
     "collapsed": false,
     "input": [
      "print circ_desk['library_of_circ'].unique()\n",
      "print len(circ_desk['library_of_circ'].unique())"
     ],
     "language": "python",
     "metadata": {},
     "outputs": [
      {
       "output_type": "stream",
       "stream": "stdout",
       "text": [
        "['Barker Library' 'Dewey Library' nan 'Hayden Circulation'\n",
        " 'Aeronautics and Astronautics' 'Document Services'\n",
        " 'Interlibrary Borrowing' 'Lewis Music Library' 'Science Library'\n",
        " 'Lindgren Library' 'Library Storage Annex' 'Schering-Plough Library'\n",
        " 'DIRC' 'Humanities Library' 'Hayden Self-check' 'Rotch Library'\n",
        " 'Rotch Visual Collections' 'Retrospective Collection'\n",
        " 'Not associated with Circulation Library' 'Dewey Self-check'\n",
        " 'Barker Self-check']\n",
        "21\n"
       ]
      }
     ],
     "prompt_number": 11
    },
    {
     "cell_type": "code",
     "collapsed": false,
     "input": [
      "print circ_desk['library_circ_desk'].unique()\n",
      "print len(circ_desk['library_circ_desk'].unique())"
     ],
     "language": "python",
     "metadata": {},
     "outputs": [
      {
       "output_type": "stream",
       "stream": "stdout",
       "text": [
        "['ENG' 'DEW' 'RTC   RVC' 'Hayden' 'AER' 'DOC' 'ILB' 'MUS' 'SCI' 'LIN'\n",
        " 'RVC   RTC' 'HUM   MUS' 'LSA' 'SPL' 'DIRC' 'HUM' 'Self-check' 'RTC' 'RVC'\n",
        " 'RSC' 'Not associated with Circulation Desk' 'Self-check2' 'Self-check3'\n",
        " 'SCI   HUM' 'SCI   DEW' 'HUM   MUS   RTC   SCI' 'HUM   MUS   SCI'\n",
        " 'HUM   MUS   RTC' 'Rotch' 'SCI   DEW   HUM']\n",
        "30\n"
       ]
      }
     ],
     "prompt_number": 13
    },
    {
     "cell_type": "code",
     "collapsed": false,
     "input": [
      "# LIBRARY_CIRC_EVENT_TYPE #\n",
      "\n",
      "circ_event = pd.read_table(\"/Users/sands/GoogleDrive/MIT/Projects/DataWarehouse/warehouse/LIBRARY_CIRC_EVENT_TYPE.tab\")\n",
      "circ_event.head()"
     ],
     "language": "python",
     "metadata": {},
     "outputs": [
      {
       "html": [
        "<div style=\"max-height:1000px;max-width:1500px;overflow:auto;\">\n",
        "<table border=\"1\" class=\"dataframe\">\n",
        "  <thead>\n",
        "    <tr style=\"text-align: right;\">\n",
        "      <th></th>\n",
        "      <th>library_circ_event_type_key</th>\n",
        "      <th>library_circ_event_type_code</th>\n",
        "      <th>library_circ_event_type</th>\n",
        "      <th>circulation_type_code</th>\n",
        "      <th>circulation_type</th>\n",
        "      <th>warehouse_load_date</th>\n",
        "    </tr>\n",
        "  </thead>\n",
        "  <tbody>\n",
        "    <tr>\n",
        "      <th>0</th>\n",
        "      <td>  LOAN:50:-</td>\n",
        "      <td> 50</td>\n",
        "      <td>          Loan</td>\n",
        "      <td> -</td>\n",
        "      <td>            Your Acct</td>\n",
        "      <td> 2005-07-20 13:58:41 UTC</td>\n",
        "    </tr>\n",
        "    <tr>\n",
        "      <th>1</th>\n",
        "      <td>  LOAN:50:P</td>\n",
        "      <td> 50</td>\n",
        "      <td>          Loan</td>\n",
        "      <td> P</td>\n",
        "      <td>            PC Client</td>\n",
        "      <td> 2005-07-20 13:58:41 UTC</td>\n",
        "    </tr>\n",
        "    <tr>\n",
        "      <th>2</th>\n",
        "      <td>  LOAN:50:S</td>\n",
        "      <td> 50</td>\n",
        "      <td>          Loan</td>\n",
        "      <td> S</td>\n",
        "      <td>           Self-check</td>\n",
        "      <td> 2005-07-20 13:58:41 UTC</td>\n",
        "    </tr>\n",
        "    <tr>\n",
        "      <th>3</th>\n",
        "      <td>  LOAN:50:W</td>\n",
        "      <td> 50</td>\n",
        "      <td>          Loan</td>\n",
        "      <td> W</td>\n",
        "      <td> Your Acct (old code)</td>\n",
        "      <td> 2005-07-20 13:58:41 UTC</td>\n",
        "    </tr>\n",
        "    <tr>\n",
        "      <th>4</th>\n",
        "      <td> TLOAN:56:-</td>\n",
        "      <td> 56</td>\n",
        "      <td> Transfer Loan</td>\n",
        "      <td> -</td>\n",
        "      <td>            Your Acct</td>\n",
        "      <td> 2005-07-20 13:58:41 UTC</td>\n",
        "    </tr>\n",
        "  </tbody>\n",
        "</table>\n",
        "</div>"
       ],
       "metadata": {},
       "output_type": "pyout",
       "prompt_number": 17,
       "text": [
        "  library_circ_event_type_key  library_circ_event_type_code  \\\n",
        "0                   LOAN:50:-                            50   \n",
        "1                   LOAN:50:P                            50   \n",
        "2                   LOAN:50:S                            50   \n",
        "3                   LOAN:50:W                            50   \n",
        "4                  TLOAN:56:-                            56   \n",
        "\n",
        "  library_circ_event_type circulation_type_code      circulation_type  \\\n",
        "0                    Loan                     -             Your Acct   \n",
        "1                    Loan                     P             PC Client   \n",
        "2                    Loan                     S            Self-check   \n",
        "3                    Loan                     W  Your Acct (old code)   \n",
        "4           Transfer Loan                     -             Your Acct   \n",
        "\n",
        "       warehouse_load_date  \n",
        "0  2005-07-20 13:58:41 UTC  \n",
        "1  2005-07-20 13:58:41 UTC  \n",
        "2  2005-07-20 13:58:41 UTC  \n",
        "3  2005-07-20 13:58:41 UTC  \n",
        "4  2005-07-20 13:58:41 UTC  "
       ]
      }
     ],
     "prompt_number": 17
    },
    {
     "cell_type": "code",
     "collapsed": false,
     "input": [
      "[x for x in circ_event.columns]"
     ],
     "language": "python",
     "metadata": {},
     "outputs": [
      {
       "metadata": {},
       "output_type": "pyout",
       "prompt_number": 19,
       "text": [
        "['library_circ_event_type_key',\n",
        " 'library_circ_event_type_code',\n",
        " 'library_circ_event_type',\n",
        " 'circulation_type_code',\n",
        " 'circulation_type',\n",
        " 'warehouse_load_date']"
       ]
      }
     ],
     "prompt_number": 19
    },
    {
     "cell_type": "code",
     "collapsed": false,
     "input": [
      "for x in circ_event['library_circ_event_type'].unique():\n",
      "    print \"-\", x\n",
      "print \"(\", len(circ_event['library_circ_event_type'].unique()), \")\""
     ],
     "language": "python",
     "metadata": {},
     "outputs": [
      {
       "output_type": "stream",
       "stream": "stdout",
       "text": [
        "- Loan\n",
        "- Transfer Loan\n",
        "- Cancelled Loan\n",
        "- Return\n",
        "- Renewal (Your Acct)\n",
        "- Renewal\n",
        "- Renewal (Batch)\n",
        "- Declared lost\n",
        "- Claimed returned\n",
        "- Hold on available item\n",
        "- Hold on unavailable item\n",
        "- In House Use\n",
        "- Photocopy request\n",
        "- Return - Not on Loan\n",
        "- Offline Loan\n",
        "( 15 )\n"
       ]
      }
     ],
     "prompt_number": 26
    },
    {
     "cell_type": "code",
     "collapsed": false,
     "input": [
      "for x in circ_event['circulation_type'].unique():\n",
      "    print \"-\", x"
     ],
     "language": "python",
     "metadata": {},
     "outputs": [
      {
       "output_type": "stream",
       "stream": "stdout",
       "text": [
        "- Your Acct\n",
        "- PC Client\n",
        "- Self-check\n",
        "- Your Acct (old code)\n"
       ]
      }
     ],
     "prompt_number": 27
    },
    {
     "cell_type": "code",
     "collapsed": false,
     "input": [
      "# LIBRARY_CIRC_ITEM_STATUS #\n",
      "\n",
      "circ_status = pd.read_table(\"/Users/sands/GoogleDrive/MIT/Projects/DataWarehouse/warehouse/LIBRARY_CIRC_ITEM_STATUS.tab\")\n",
      "circ_status.head()"
     ],
     "language": "python",
     "metadata": {},
     "outputs": [
      {
       "html": [
        "<div style=\"max-height:1000px;max-width:1500px;overflow:auto;\">\n",
        "<table border=\"1\" class=\"dataframe\">\n",
        "  <thead>\n",
        "    <tr style=\"text-align: right;\">\n",
        "      <th></th>\n",
        "      <th>library_circ_item_status_key</th>\n",
        "      <th>library_circ_item_status_code</th>\n",
        "      <th>library_circ_item_status</th>\n",
        "      <th>warehouse_load_date</th>\n",
        "    </tr>\n",
        "  </thead>\n",
        "  <tbody>\n",
        "    <tr>\n",
        "      <th>0</th>\n",
        "      <td>  8</td>\n",
        "      <td>  8</td>\n",
        "      <td>  Due at Closing</td>\n",
        "      <td> 2014-01-26 01:19:23 UTC</td>\n",
        "    </tr>\n",
        "    <tr>\n",
        "      <th>1</th>\n",
        "      <td>  1</td>\n",
        "      <td>  1</td>\n",
        "      <td>     30 Day Loan</td>\n",
        "      <td> 2014-01-26 01:19:23 UTC</td>\n",
        "    </tr>\n",
        "    <tr>\n",
        "      <th>2</th>\n",
        "      <td> 50</td>\n",
        "      <td> 50</td>\n",
        "      <td> TEST Media Room</td>\n",
        "      <td> 2014-01-26 01:19:23 UTC</td>\n",
        "    </tr>\n",
        "    <tr>\n",
        "      <th>3</th>\n",
        "      <td> 57</td>\n",
        "      <td> 57</td>\n",
        "      <td>    LSA Use Only</td>\n",
        "      <td> 2014-01-26 01:19:23 UTC</td>\n",
        "    </tr>\n",
        "    <tr>\n",
        "      <th>4</th>\n",
        "      <td> 68</td>\n",
        "      <td> 68</td>\n",
        "      <td> Ser Acq Use Onl</td>\n",
        "      <td> 2014-01-26 01:19:23 UTC</td>\n",
        "    </tr>\n",
        "  </tbody>\n",
        "</table>\n",
        "</div>"
       ],
       "metadata": {},
       "output_type": "pyout",
       "prompt_number": 29,
       "text": [
        "   library_circ_item_status_key  library_circ_item_status_code  \\\n",
        "0                             8                              8   \n",
        "1                             1                              1   \n",
        "2                            50                             50   \n",
        "3                            57                             57   \n",
        "4                            68                             68   \n",
        "\n",
        "  library_circ_item_status      warehouse_load_date  \n",
        "0           Due at Closing  2014-01-26 01:19:23 UTC  \n",
        "1              30 Day Loan  2014-01-26 01:19:23 UTC  \n",
        "2          TEST Media Room  2014-01-26 01:19:23 UTC  \n",
        "3             LSA Use Only  2014-01-26 01:19:23 UTC  \n",
        "4          Ser Acq Use Onl  2014-01-26 01:19:23 UTC  "
       ]
      }
     ],
     "prompt_number": 29
    },
    {
     "cell_type": "code",
     "collapsed": false,
     "input": [
      "[x for x in circ_status.columns]"
     ],
     "language": "python",
     "metadata": {},
     "outputs": [
      {
       "metadata": {},
       "output_type": "pyout",
       "prompt_number": 30,
       "text": [
        "['library_circ_item_status_key',\n",
        " 'library_circ_item_status_code',\n",
        " 'library_circ_item_status',\n",
        " 'warehouse_load_date']"
       ]
      }
     ],
     "prompt_number": 30
    },
    {
     "cell_type": "code",
     "collapsed": false,
     "input": [
      "for x in circ_status['library_circ_item_status']:\n",
      "    print \"-\", x"
     ],
     "language": "python",
     "metadata": {},
     "outputs": [
      {
       "output_type": "stream",
       "stream": "stdout",
       "text": [
        "- Due at Closing\n",
        "- 30 Day Loan\n",
        "- TEST Media Room\n",
        "- LSA Use Only\n",
        "- Ser Acq Use Onl\n",
        "- 4 Hour Reserves\n",
        "- Journal Loan\n",
        "- 30 Day No Renew\n",
        "- Spring 2 Hours\n",
        "- 1 Day Loan\n",
        "- LSA 30\n",
        "- 3 Day Loan\n",
        "- 2 Day Loan\n",
        "- Withdrawn\n",
        "- BLC ILB Loan\n",
        "- Room Use Only\n",
        "- Ipod 1 Day Loan\n",
        "- Ipod Headset 1 Day\n",
        "- Equipment\n",
        "- BD ILB Loan\n",
        "- 1 Week No Renew\n",
        "- ILB Loan\n",
        "- 2 Hour Loan\n",
        "- Thesis Loan\n",
        "- LSA 7\n",
        "- IAP 2 Hours\n",
        "- Circ Laptop\n",
        "- See Note Above\n",
        "- Music CD/DVD\n",
        "- Fall 2 Hours\n",
        "- 24 Hour Loan\n",
        "- OCC 30\n",
        "- Two Week Loan\n",
        "- One Week Loan\n",
        "- Summer 2 Hours\n",
        "- Suppressed\n",
        "- Lost DoNotUse\n"
       ]
      }
     ],
     "prompt_number": 31
    },
    {
     "cell_type": "code",
     "collapsed": false,
     "input": [
      "# for name, group in circ.groupby('library_key'):\n",
      "#     print name\n",
      "    \n",
      "counts_library"
     ],
     "language": "python",
     "metadata": {},
     "outputs": [
      {
       "metadata": {},
       "output_type": "pyout",
       "prompt_number": 52,
       "text": [
        "library_key\n",
        "AER             46\n",
        "DEW            415\n",
        "ENG            244\n",
        "HUM            231\n",
        "LIN             90\n",
        "MUS            376\n",
        "RBR              7\n",
        "RSC             38\n",
        "RTC            231\n",
        "SCI            292\n",
        "SPL             30\n",
        "dtype: int64"
       ]
      }
     ],
     "prompt_number": 52
    },
    {
     "cell_type": "code",
     "collapsed": false,
     "input": [
      "import networkx as nx\n",
      "from networkx.readwrite import json_graph\n",
      "\n",
      "G = nx.Graph()\n",
      "G.add_node(\"MIT Libraries\")\n",
      "for name, c in counts_library.iteritems():\n",
      "    G.add_node(name, count=c)\n",
      "    G.add_edge(\"MIT Libraries\", name)"
     ],
     "language": "python",
     "metadata": {},
     "outputs": [],
     "prompt_number": 62
    },
    {
     "cell_type": "code",
     "collapsed": false,
     "input": [
      "import json\n",
      "data = json_graph.node_link_data(G)\n",
      "with open('library_count_graph.json', 'w') as f:\n",
      "\tf.write(json.dumps(data))"
     ],
     "language": "python",
     "metadata": {},
     "outputs": [],
     "prompt_number": 63
    },
    {
     "cell_type": "code",
     "collapsed": false,
     "input": [
      "import matplotlib.pyplot as plt\n",
      "nx.draw(G)\n",
      "plt.savefig(\"json_graph.png\")"
     ],
     "language": "python",
     "metadata": {},
     "outputs": [
      {
       "output_type": "stream",
       "stream": "stdout",
       "text": [
        "Writing graph image...\n"
       ]
      },
      {
       "metadata": {},
       "output_type": "display_data",
       "png": "[encoded data removed]",
       "text": [
        "<matplotlib.figure.Figure at 0x10b02dfd0>"
       ]
      }
     ],
     "prompt_number": 64
    },
    {
     "cell_type": "code",
     "collapsed": false,
     "input": [],
     "language": "python",
     "metadata": {},
     "outputs": []
    }
   ],
   "metadata": {}
  }
 ]
}